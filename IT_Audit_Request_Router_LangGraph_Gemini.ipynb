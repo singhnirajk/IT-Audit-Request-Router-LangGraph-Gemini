{
  "nbformat": 4,
  "nbformat_minor": 5,
  "metadata": {
    "colab": {
      "provenance": []
    },
    "language_info": {
      "name": "python"
    },
    "kernelspec": {
      "name": "python3",
      "display_name": "Python 3"
    }
  },
  "cells": [
    {
      "id": "b38693f9",
      "cell_type": "markdown",
      "source": [
        "\n",
        "# IT Audit Request Router — LangGraph + Gemini (Colab-Ready)\n",
        "\n",
        "Rules-first, LLM-second router for IT audit intake. LLM = **Google Gemini** via `google-generativeai`.\n",
        "Route to **IT Audit Desk** vs **Global Audit Intake**. Produces evidence checklists, ticket/email stubs, and an audit log.\n"
      ],
      "metadata": {
        "id": "b38693f9"
      }
    },
    {
      "id": "b5be58b8",
      "cell_type": "markdown",
      "source": [
        "## Install"
      ],
      "metadata": {
        "id": "b5be58b8"
      }
    },
    {
      "id": "ccc867c5",
      "cell_type": "code",
      "metadata": {
        "colab": {
          "base_uri": "https://localhost:8080/"
        },
        "id": "ccc867c5",
        "outputId": "22d5fa70-68cd-4a70-b13e-ae4bbab0855b"
      },
      "execution_count": 58,
      "source": [
        "\n",
        "# %%install\n",
        "!pip -q install \"langgraph>=0.2.36\" \"google-generativeai>=0.6.0\" \"pydantic>=2.8\" \"typing_extensions>=4.12\" >/dev/null\n",
        "print(\"Dependencies installed.\")\n"
      ],
      "outputs": [
        {
          "output_type": "stream",
          "name": "stdout",
          "text": [
            "Dependencies installed.\n"
          ]
        }
      ]
    },
    {
      "cell_type": "code",
      "source": [
        "!pip install -U google-generativeai\n"
      ],
      "metadata": {
        "colab": {
          "base_uri": "https://localhost:8080/"
        },
        "id": "0M3YFzqkTzwF",
        "outputId": "ca0e3b73-cf5f-4ab2-e030-02e81b5e9a4d"
      },
      "id": "0M3YFzqkTzwF",
      "execution_count": 59,
      "outputs": [
        {
          "output_type": "stream",
          "name": "stdout",
          "text": [
            "Requirement already satisfied: google-generativeai in /usr/local/lib/python3.12/dist-packages (0.8.5)\n",
            "Requirement already satisfied: google-ai-generativelanguage==0.6.15 in /usr/local/lib/python3.12/dist-packages (from google-generativeai) (0.6.15)\n",
            "Requirement already satisfied: google-api-core in /usr/local/lib/python3.12/dist-packages (from google-generativeai) (2.26.0)\n",
            "Requirement already satisfied: google-api-python-client in /usr/local/lib/python3.12/dist-packages (from google-generativeai) (2.185.0)\n",
            "Requirement already satisfied: google-auth>=2.15.0 in /usr/local/lib/python3.12/dist-packages (from google-generativeai) (2.38.0)\n",
            "Requirement already satisfied: protobuf in /usr/local/lib/python3.12/dist-packages (from google-generativeai) (5.29.5)\n",
            "Requirement already satisfied: pydantic in /usr/local/lib/python3.12/dist-packages (from google-generativeai) (2.11.10)\n",
            "Requirement already satisfied: tqdm in /usr/local/lib/python3.12/dist-packages (from google-generativeai) (4.67.1)\n",
            "Requirement already satisfied: typing-extensions in /usr/local/lib/python3.12/dist-packages (from google-generativeai) (4.15.0)\n",
            "Requirement already satisfied: proto-plus<2.0.0dev,>=1.22.3 in /usr/local/lib/python3.12/dist-packages (from google-ai-generativelanguage==0.6.15->google-generativeai) (1.26.1)\n",
            "Requirement already satisfied: googleapis-common-protos<2.0.0,>=1.56.2 in /usr/local/lib/python3.12/dist-packages (from google-api-core->google-generativeai) (1.71.0)\n",
            "Requirement already satisfied: requests<3.0.0,>=2.18.0 in /usr/local/lib/python3.12/dist-packages (from google-api-core->google-generativeai) (2.32.4)\n",
            "Requirement already satisfied: cachetools<6.0,>=2.0.0 in /usr/local/lib/python3.12/dist-packages (from google-auth>=2.15.0->google-generativeai) (5.5.2)\n",
            "Requirement already satisfied: pyasn1-modules>=0.2.1 in /usr/local/lib/python3.12/dist-packages (from google-auth>=2.15.0->google-generativeai) (0.4.2)\n",
            "Requirement already satisfied: rsa<5,>=3.1.4 in /usr/local/lib/python3.12/dist-packages (from google-auth>=2.15.0->google-generativeai) (4.9.1)\n",
            "Requirement already satisfied: httplib2<1.0.0,>=0.19.0 in /usr/local/lib/python3.12/dist-packages (from google-api-python-client->google-generativeai) (0.31.0)\n",
            "Requirement already satisfied: google-auth-httplib2<1.0.0,>=0.2.0 in /usr/local/lib/python3.12/dist-packages (from google-api-python-client->google-generativeai) (0.2.0)\n",
            "Requirement already satisfied: uritemplate<5,>=3.0.1 in /usr/local/lib/python3.12/dist-packages (from google-api-python-client->google-generativeai) (4.2.0)\n",
            "Requirement already satisfied: annotated-types>=0.6.0 in /usr/local/lib/python3.12/dist-packages (from pydantic->google-generativeai) (0.7.0)\n",
            "Requirement already satisfied: pydantic-core==2.33.2 in /usr/local/lib/python3.12/dist-packages (from pydantic->google-generativeai) (2.33.2)\n",
            "Requirement already satisfied: typing-inspection>=0.4.0 in /usr/local/lib/python3.12/dist-packages (from pydantic->google-generativeai) (0.4.2)\n",
            "Requirement already satisfied: grpcio<2.0.0,>=1.33.2 in /usr/local/lib/python3.12/dist-packages (from google-api-core[grpc]!=2.0.*,!=2.1.*,!=2.10.*,!=2.2.*,!=2.3.*,!=2.4.*,!=2.5.*,!=2.6.*,!=2.7.*,!=2.8.*,!=2.9.*,<3.0.0dev,>=1.34.1->google-ai-generativelanguage==0.6.15->google-generativeai) (1.75.1)\n",
            "Requirement already satisfied: grpcio-status<2.0.0,>=1.33.2 in /usr/local/lib/python3.12/dist-packages (from google-api-core[grpc]!=2.0.*,!=2.1.*,!=2.10.*,!=2.2.*,!=2.3.*,!=2.4.*,!=2.5.*,!=2.6.*,!=2.7.*,!=2.8.*,!=2.9.*,<3.0.0dev,>=1.34.1->google-ai-generativelanguage==0.6.15->google-generativeai) (1.71.2)\n",
            "Requirement already satisfied: pyparsing<4,>=3.0.4 in /usr/local/lib/python3.12/dist-packages (from httplib2<1.0.0,>=0.19.0->google-api-python-client->google-generativeai) (3.2.5)\n",
            "Requirement already satisfied: pyasn1<0.7.0,>=0.6.1 in /usr/local/lib/python3.12/dist-packages (from pyasn1-modules>=0.2.1->google-auth>=2.15.0->google-generativeai) (0.6.1)\n",
            "Requirement already satisfied: charset_normalizer<4,>=2 in /usr/local/lib/python3.12/dist-packages (from requests<3.0.0,>=2.18.0->google-api-core->google-generativeai) (3.4.4)\n",
            "Requirement already satisfied: idna<4,>=2.5 in /usr/local/lib/python3.12/dist-packages (from requests<3.0.0,>=2.18.0->google-api-core->google-generativeai) (3.11)\n",
            "Requirement already satisfied: urllib3<3,>=1.21.1 in /usr/local/lib/python3.12/dist-packages (from requests<3.0.0,>=2.18.0->google-api-core->google-generativeai) (2.5.0)\n",
            "Requirement already satisfied: certifi>=2017.4.17 in /usr/local/lib/python3.12/dist-packages (from requests<3.0.0,>=2.18.0->google-api-core->google-generativeai) (2025.10.5)\n"
          ]
        }
      ]
    },
    {
      "id": "c5fee560",
      "cell_type": "markdown",
      "source": [
        "## Configure API key"
      ],
      "metadata": {
        "id": "c5fee560"
      }
    },
    {
      "id": "88b6d09e",
      "cell_type": "code",
      "metadata": {
        "colab": {
          "base_uri": "https://localhost:8080/",
          "height": 72
        },
        "id": "88b6d09e",
        "outputId": "efcc000a-7298-441e-ff02-ffaaf1491c1e"
      },
      "execution_count": 60,
      "source": [
        "\n",
        "# %%config\n",
        "!pip -q install -U google-generativeai langgraph >/dev/null\n",
        "\n",
        "import os, google.generativeai as genai\n",
        "from google.api_core.exceptions import Forbidden\n",
        "\n",
        "# Set GOOGLE_API_KEY before running this cell (e.g., %env GOOGLE_API_KEY=...).\n",
        "key = (os.getenv(\"GOOGLE_API_KEY\") or \"\").strip()\n",
        "if not key:\n",
        "    raise RuntimeError(\"GOOGLE_API_KEY is not set.\")\n",
        "genai.configure(api_key=key)\n",
        "\n",
        "# List ONLY models your key can actually call with generateContent\n",
        "try:\n",
        "    _supported = [m.name for m in genai.list_models()\n",
        "                  if \"generateContent\" in m.supported_generation_methods]\n",
        "except Forbidden:\n",
        "    raise SystemExit(\n",
        "        \"Gemini API is disabled for this project/key. Enable it in GCP console \"\n",
        "        \"(generativelanguage.googleapis.com) or use a different key.\"\n",
        "    )\n",
        "\n",
        "if not _supported:\n",
        "    raise SystemExit(\"No Gemini models with generateContent available for this key/project.\")\n",
        "\n",
        "# Prefer newer if present; otherwise fall back to what you have (often 'models/gemini-pro').\n",
        "PREFERRED_ORDER = [\n",
        "    \"models/gemini-1.5-flash-latest\",\n",
        "    \"models/gemini-1.5-pro-latest\",\n",
        "    \"models/gemini-1.5-flash\",\n",
        "    \"models/gemini-1.5-pro\",\n",
        "    \"models/gemini-pro\",            # legacy; commonly available on v1beta\n",
        "    \"models/gemini-1.0-pro\",        # legacy; sometimes available\n",
        "]\n",
        "MODEL = next((m for m in PREFERRED_ORDER if m in _supported), _supported[0])\n",
        "\n",
        "print(\"Supported models:\", _supported)\n",
        "print(\"Using model:\", MODEL)\n",
        "\n"
      ],
      "outputs": [
        {
          "output_type": "stream",
          "name": "stdout",
          "text": [
            "Supported models: ['models/gemini-2.5-pro-preview-03-25', 'models/gemini-2.5-flash-preview-05-20', 'models/gemini-2.5-flash', 'models/gemini-2.5-flash-lite-preview-06-17', 'models/gemini-2.5-pro-preview-05-06', 'models/gemini-2.5-pro-preview-06-05', 'models/gemini-2.5-pro', 'models/gemini-2.0-flash-exp', 'models/gemini-2.0-flash', 'models/gemini-2.0-flash-001', 'models/gemini-2.0-flash-exp-image-generation', 'models/gemini-2.0-flash-lite-001', 'models/gemini-2.0-flash-lite', 'models/gemini-2.0-flash-preview-image-generation', 'models/gemini-2.0-flash-lite-preview-02-05', 'models/gemini-2.0-flash-lite-preview', 'models/gemini-2.0-pro-exp', 'models/gemini-2.0-pro-exp-02-05', 'models/gemini-exp-1206', 'models/gemini-2.0-flash-thinking-exp-01-21', 'models/gemini-2.0-flash-thinking-exp', 'models/gemini-2.0-flash-thinking-exp-1219', 'models/gemini-2.5-flash-preview-tts', 'models/gemini-2.5-pro-preview-tts', 'models/learnlm-2.0-flash-experimental', 'models/gemma-3-1b-it', 'models/gemma-3-4b-it', 'models/gemma-3-12b-it', 'models/gemma-3-27b-it', 'models/gemma-3n-e4b-it', 'models/gemma-3n-e2b-it', 'models/gemini-flash-latest', 'models/gemini-flash-lite-latest', 'models/gemini-pro-latest', 'models/gemini-2.5-flash-lite', 'models/gemini-2.5-flash-image-preview', 'models/gemini-2.5-flash-image', 'models/gemini-2.5-flash-preview-09-2025', 'models/gemini-2.5-flash-lite-preview-09-2025', 'models/gemini-robotics-er-1.5-preview', 'models/gemini-2.5-computer-use-preview-10-2025']\n",
            "Using model: models/gemini-2.5-pro-preview-03-25\n"
          ]
        }
      ]
    },
    {
      "id": "bee16f3c",
      "cell_type": "markdown",
      "source": [
        "## Domain: frameworks, keywords, evidence library"
      ],
      "metadata": {
        "id": "bee16f3c"
      }
    },
    {
      "id": "1774fb42",
      "cell_type": "code",
      "metadata": {
        "id": "1774fb42"
      },
      "execution_count": 61,
      "source": [
        "\n",
        "# %%domain\n",
        "from enum import Enum\n",
        "from typing import Dict, List, Optional, Tuple\n",
        "import re, json, datetime\n",
        "\n",
        "class Framework(str, Enum):\n",
        "    SOX = \"SOX\"; SOC1 = \"SOC 1\"; SOC2 = \"SOC 2\"; HIPAA = \"HIPAA\"\n",
        "    COBIT = \"COBIT\"; PCI = \"PCI DSS\"; ISO27001 = \"ISO 27001\"; NIST_CSF = \"NIST CSF\"\n",
        "\n",
        "KEYWORDS: Dict[Framework, List[str]] = {\n",
        "    Framework.SOX: [\"sox\",\"sarbanes-oxley\",\"icfr\",\"404\",\"302\"],\n",
        "    Framework.SOC1: [\"soc 1\",\"ssae 18\",\"isae 3402 type i\",\"isae 3402 type ii\"],\n",
        "    Framework.SOC2: [\"soc 2\",\"trust services criteria\",\"tsc\",\"type i\",\"type ii\"],\n",
        "    Framework.HIPAA: [\"hipaa\",\"phi\",\"privacy rule\",\"security rule\",\"hitech\"],\n",
        "    Framework.COBIT: [\"cobit\",\"control objectives\",\"isaca cobit\"],\n",
        "    Framework.PCI: [\"pci\",\"pci dss\",\"roc\",\"saq\",\"qsa\",\"cardholder data\",\"chd\"],\n",
        "    Framework.ISO27001: [\"iso 27001\",\"iso/iec 27001\",\"annex a\",\"isms\"],\n",
        "    Framework.NIST_CSF: [\"nist csf\",\"identify protect detect respond recover\",\"csf\",\"framework core\"],\n",
        "}\n",
        "\n",
        "EVIDENCE_LIBRARY: Dict[Framework, List[str]] = {\n",
        "    Framework.SOX: [\"ICFR control list/owners\",\"Narratives/flowcharts\",\"ToD\",\"ToE\",\"Populations & samples\"],\n",
        "    Framework.SOC1: [\"System description\",\"Control objectives/controls\",\"Change mgmt/access evidence\",\"Sampling method\"],\n",
        "    Framework.SOC2: [\"TSC mapping\",\"Security/Availability/Confidentiality evidence\",\"IR records\",\"Vendor/subservice list\"],\n",
        "    Framework.HIPAA: [\"Privacy/Security/Breach policies\",\"ePHI inventory/data flow\",\"Risk analysis/plan\",\"Access logs/audit trails\"],\n",
        "    Framework.PCI: [\"CDE diagram\",\"Segmentation evidence\",\"ASV scans/Pentest\",\"Key mgmt/encryption docs\"],\n",
        "    Framework.ISO27001: [\"ISMS scope/SoA\",\"Annex A evidence\",\"Internal audit results\",\"Mgmt review & CAPA\"],\n",
        "    Framework.NIST_CSF: [\"Current vs Target Profile\",\"Tier assessment\",\"Risk register\",\"IR/BC/DR runbooks\"],\n",
        "}\n"
      ],
      "outputs": []
    },
    {
      "cell_type": "code",
      "source": [
        "pip install pydantic[email]"
      ],
      "metadata": {
        "colab": {
          "base_uri": "https://localhost:8080/"
        },
        "id": "jZMgXtb9SGyG",
        "outputId": "a72a1d49-b2c6-4d59-e7a9-7f7c4acfe2e4"
      },
      "id": "jZMgXtb9SGyG",
      "execution_count": 62,
      "outputs": [
        {
          "output_type": "stream",
          "name": "stdout",
          "text": [
            "Requirement already satisfied: pydantic[email] in /usr/local/lib/python3.12/dist-packages (2.11.10)\n",
            "Requirement already satisfied: annotated-types>=0.6.0 in /usr/local/lib/python3.12/dist-packages (from pydantic[email]) (0.7.0)\n",
            "Requirement already satisfied: pydantic-core==2.33.2 in /usr/local/lib/python3.12/dist-packages (from pydantic[email]) (2.33.2)\n",
            "Requirement already satisfied: typing-extensions>=4.12.2 in /usr/local/lib/python3.12/dist-packages (from pydantic[email]) (4.15.0)\n",
            "Requirement already satisfied: typing-inspection>=0.4.0 in /usr/local/lib/python3.12/dist-packages (from pydantic[email]) (0.4.2)\n",
            "Requirement already satisfied: email-validator>=2.0.0 in /usr/local/lib/python3.12/dist-packages (from pydantic[email]) (2.3.0)\n",
            "Requirement already satisfied: dnspython>=2.0.0 in /usr/local/lib/python3.12/dist-packages (from email-validator>=2.0.0->pydantic[email]) (2.8.0)\n",
            "Requirement already satisfied: idna>=2.0.0 in /usr/local/lib/python3.12/dist-packages (from email-validator>=2.0.0->pydantic[email]) (3.11)\n"
          ]
        }
      ]
    },
    {
      "id": "138ec44b",
      "cell_type": "markdown",
      "source": [
        "## Models and redaction"
      ],
      "metadata": {
        "id": "138ec44b"
      }
    },
    {
      "id": "6f196637",
      "cell_type": "code",
      "metadata": {
        "id": "6f196637"
      },
      "execution_count": 63,
      "source": [
        "\n",
        "# %%models\n",
        "from pydantic import BaseModel, Field, EmailStr\n",
        "\n",
        "PII_PATTERNS = [\n",
        "    re.compile(r\"\\b\\d{3}-\\d{2}-\\d{4}\\b\"),\n",
        "    re.compile(r\"\\b\\d{16}\\b\"),\n",
        "    re.compile(r\"\\b\\d{4} \\d{4} \\d{4} \\d{4}\\b\"),\n",
        "    re.compile(r\"[A-Z0-9._%+-]+@[A-Z0-9.-]+\\.[A-Z]{2,}\", re.I),\n",
        "    re.compile(r\"\\b\\d{10}\\b\"),\n",
        "]\n",
        "def redact(text:str)->str:\n",
        "    for pat in PII_PATTERNS:\n",
        "        text = pat.sub(\"[REDACTED]\", text)\n",
        "    return text\n",
        "\n",
        "class AuditRequest(BaseModel):\n",
        "    request_id: str\n",
        "    requester_name: str\n",
        "    requester_email: EmailStr\n",
        "    business_unit: str\n",
        "    title: str\n",
        "    description: str\n",
        "    due_date: Optional[str] = None\n",
        "    attachments: List[str] = Field(default_factory=list)\n",
        "    def sanitize(self) -> \"AuditRequest\":\n",
        "        return AuditRequest(\n",
        "            request_id=self.request_id,\n",
        "            requester_name=redact(self.requester_name),\n",
        "            requester_email=self.requester_email,  # keep actual for comms\n",
        "            business_unit=redact(self.business_unit),\n",
        "            title=redact(self.title),\n",
        "            description=redact(self.description),\n",
        "            due_date=self.due_date,\n",
        "            attachments=[redact(a) for a in self.attachments],\n",
        "        )\n",
        "\n",
        "class RuleResult(BaseModel):\n",
        "    matched_frameworks: List[Framework] = []\n",
        "    confidence: float = 0.0\n",
        "    reasoning: str = \"\"\n",
        "\n",
        "class LLMResult(BaseModel):\n",
        "    is_it_audit: bool\n",
        "    matched_frameworks: List[Framework] = []\n",
        "    confidence: float = 0.0\n",
        "    rationale: str = \"\"\n",
        "\n",
        "class Decision(BaseModel):\n",
        "    route: str  # IT_AUDIT or GLOBAL_AUDIT\n",
        "    confidence: float\n",
        "    reason: str\n",
        "\n",
        "class EvidenceChecklist(BaseModel):\n",
        "    framework: Optional[Framework]\n",
        "    items: List[str]\n",
        "\n",
        "class TicketStub(BaseModel):\n",
        "    system: str\n",
        "    payload: dict\n",
        "\n",
        "class EmailStub(BaseModel):\n",
        "    to: str\n",
        "    subject: str\n",
        "    body: str\n"
      ],
      "outputs": []
    },
    {
      "id": "44ec0707",
      "cell_type": "markdown",
      "source": [
        "## Rules classifier"
      ],
      "metadata": {
        "id": "44ec0707"
      }
    },
    {
      "id": "c10ad862",
      "cell_type": "code",
      "metadata": {
        "id": "c10ad862"
      },
      "execution_count": 64,
      "source": [
        "\n",
        "# %%rules\n",
        "from typing import Tuple\n",
        "\n",
        "def keyword_match(text: str) -> Tuple[List[Framework], float, str]:\n",
        "    text_l = text.lower()\n",
        "    hits = []\n",
        "    rationale = []\n",
        "    for fw, words in KEYWORDS.items():\n",
        "        matched = [w for w in words if w in text_l]\n",
        "        if matched:\n",
        "            hits.append(fw)\n",
        "            rationale.append(f\"{fw.value}: {', '.join(matched)}\")\n",
        "    conf = min(0.95, 0.5 + 0.1*len(hits)) if hits else 0.1\n",
        "    reason = \"; \".join(rationale) if rationale else \"No framework keywords found.\"\n",
        "    return hits, conf, reason\n",
        "\n",
        "def run_rules(req: AuditRequest) -> RuleResult:\n",
        "    text = f\"{req.title}\\n{req.description}\"\n",
        "    fws, conf, reason = keyword_match(text)\n",
        "    return RuleResult(matched_frameworks=fws, confidence=conf, reasoning=reason)\n"
      ],
      "outputs": []
    },
    {
      "id": "fcfb5e45",
      "cell_type": "markdown",
      "source": [
        "## Gemini verifier"
      ],
      "metadata": {
        "id": "fcfb5e45"
      }
    },
    {
      "id": "bd3158c3",
      "cell_type": "code",
      "metadata": {
        "id": "bd3158c3"
      },
      "execution_count": 65,
      "source": [
        "\n",
        "# %%gemini verifier\n",
        "import re, json\n",
        "import google.generativeai as genai\n",
        "\n",
        "def _extract_json(text: str) -> dict:\n",
        "    try:\n",
        "        return json.loads(text)\n",
        "    except Exception:\n",
        "        pass\n",
        "    m = re.search(r\"\\{[\\s\\S]*\\}\", text)\n",
        "    if m:\n",
        "        try:\n",
        "            return json.loads(m.group(0))\n",
        "        except Exception:\n",
        "            return {\"is_it_audit\": False, \"matched_frameworks\": [], \"confidence\": 0.0, \"rationale\": text[:400]}\n",
        "    return {\"is_it_audit\": False, \"matched_frameworks\": [], \"confidence\": 0.0, \"rationale\": text[:400]}\n",
        "\n",
        "def llm_verify(title: str, description: str) -> LLMResult:\n",
        "    prompt = (\n",
        "        \"You are an enterprise audit intake assistant. Determine whether the request concerns IT audit \"\n",
        "        \"frameworks (SOX, SOC 1, SOC 2, HIPAA, COBIT, PCI DSS, ISO 27001, NIST CSF). \"\n",
        "        \"Return JSON with keys: is_it_audit (bool), matched_frameworks (list of strings), \"\n",
        "        \"confidence (0-1), rationale (string).\\n\\n\"\n",
        "        f\"Title: {title}\\nDescription: {description}\"\n",
        "    )\n",
        "    model_obj = genai.GenerativeModel(MODEL)\n",
        "    resp = model_obj.generate_content(prompt, generation_config={\"temperature\": 0})\n",
        "    text = (resp.text or \"\").strip()\n",
        "    raw = _extract_json(text)\n",
        "\n",
        "    # Normalize framework strings -> enums\n",
        "    mapping = {\"SOC1\": \"SOC 1\", \"SOC2\": \"SOC 2\", \"ISO27001\": \"ISO 27001\", \"PCI\": \"PCI DSS\", \"NIST\": \"NIST CSF\"}\n",
        "    fws = []\n",
        "    for f in raw.get(\"matched_frameworks\", []):\n",
        "        alias = mapping.get(str(f).strip(), str(f).strip())\n",
        "        try:\n",
        "            fws.append(Framework(alias))\n",
        "        except Exception:\n",
        "            pass\n",
        "\n",
        "    return LLMResult(\n",
        "        is_it_audit=bool(raw.get(\"is_it_audit\", False)),\n",
        "        matched_frameworks=fws,\n",
        "        confidence=float(raw.get(\"confidence\", 0.0)),\n",
        "        rationale=str(raw.get(\"rationale\", \"\"))[:800],\n",
        "    )\n"
      ],
      "outputs": []
    },
    {
      "id": "1bd31251",
      "cell_type": "markdown",
      "source": [
        "## LangGraph orchestration"
      ],
      "metadata": {
        "id": "1bd31251"
      }
    },
    {
      "id": "c6fa8186",
      "cell_type": "code",
      "metadata": {
        "colab": {
          "base_uri": "https://localhost:8080/"
        },
        "id": "c6fa8186",
        "outputId": "66e2363f-bfe9-4c06-9ec3-477f42d9e345"
      },
      "execution_count": 66,
      "source": [
        "\n",
        "# %%graph\n",
        "from langgraph.graph import StateGraph, END\n",
        "from typing import Any, Dict, TypedDict, Optional, List\n",
        "\n",
        "class GraphState(TypedDict):\n",
        "    req: AuditRequest\n",
        "    sanitized: AuditRequest\n",
        "    rule_result: RuleResult\n",
        "    llm_result: Optional[LLMResult]\n",
        "    decision: Optional[Decision]\n",
        "    evidence: List[EvidenceChecklist]\n",
        "    ticket: Optional[TicketStub]\n",
        "    email: Optional[EmailStub]\n",
        "    log: Dict[str, Any]\n",
        "\n",
        "IT_AUDIT_EMAIL = \"it-audit-desk@example.com\"\n",
        "GLOBAL_INTAKE_EMAIL = \"global-audit-intake@example.com\"\n",
        "\n",
        "def n_sanitize(state: GraphState) -> GraphState:\n",
        "    state[\"sanitized\"] = state[\"req\"].sanitize(); return state\n",
        "\n",
        "def n_rules(state: GraphState) -> GraphState:\n",
        "    state[\"rule_result\"] = run_rules(state[\"sanitized\"]); return state\n",
        "\n",
        "def should_llm(state: GraphState) -> str:\n",
        "    rr = state[\"rule_result\"]\n",
        "    return \"llm\" if (len(rr.matched_frameworks)==0 or rr.confidence < 0.7) else \"decide\"\n",
        "\n",
        "def n_llm(state: GraphState) -> GraphState:\n",
        "    s = state[\"sanitized\"]\n",
        "    state[\"llm_result\"] = llm_verify(s.title, s.description)\n",
        "    return state\n",
        "\n",
        "def n_decide(state: GraphState) -> GraphState:\n",
        "    rr = state[\"rule_result\"]; lr = state.get(\"llm_result\")\n",
        "    if rr.matched_frameworks and rr.confidence >= 0.7:\n",
        "        route, conf = \"IT_AUDIT\", rr.confidence\n",
        "        reason = f\"Rules matched: {[f.value for f in rr.matched_frameworks]} | {rr.reasoning}\"\n",
        "        fws = rr.matched_frameworks\n",
        "    else:\n",
        "        if lr and (lr.is_it_audit or lr.matched_frameworks):\n",
        "            route, conf = \"IT_AUDIT\", max(rr.confidence, lr.confidence)\n",
        "            reason = f\"LLM verification: {lr.rationale}\"\n",
        "            fws = lr.matched_frameworks or rr.matched_frameworks\n",
        "        else:\n",
        "            route, conf = \"GLOBAL_AUDIT\", max(rr.confidence, (lr.confidence if lr else 0.5))\n",
        "            reason = f\"No decisive IT frameworks via rules/LLM. Rules: {rr.reasoning}\" + (f\" | LLM: {lr.rationale}\" if lr else \"\")\n",
        "            fws = []\n",
        "    state[\"decision\"] = Decision(route=route, confidence=conf, reason=reason)\n",
        "    state[\"evidence\"] = [EvidenceChecklist(framework=fw, items=EVIDENCE_LIBRARY.get(fw, [])) for fw in fws] if fws else [EvidenceChecklist(framework=None, items=[\"Describe ask\",\"Provide scope/timeline/stakeholders\",\"Attach policy/process docs\"])]\n",
        "    return state\n",
        "\n",
        "def n_artifacts(state: GraphState) -> GraphState:\n",
        "    d = state[\"decision\"]; s = state[\"sanitized\"]\n",
        "    if d.route == \"IT_AUDIT\":\n",
        "        to, subject, system = IT_AUDIT_EMAIL, f\"New IT Audit Request: {s.title}\", \"ServiceNow-IT-Audit\"\n",
        "    else:\n",
        "        to, subject, system = GLOBAL_INTAKE_EMAIL, f\"Rerouted to Global Audit Intake: {s.title}\", \"Global-Audit-Intake\"\n",
        "    body = (f\"Requester: {s.requester_name} <{s.requester_email}>\\nBU: {s.business_unit}\\n\"\n",
        "            f\"Decision: {d.route} (conf={d.confidence:.2f})\\nReason: {d.reason}\\n\")\n",
        "    state[\"email\"] = EmailStub(to=to, subject=subject, body=body)\n",
        "    state[\"ticket\"] = TicketStub(system=system, payload={\n",
        "        \"short_description\": f\"[{d.route}] {s.title}\",\n",
        "        \"description\": s.description,\n",
        "        \"caller\": str(s.requester_email),\n",
        "        \"business_unit\": s.business_unit,\n",
        "        \"matched_frameworks\": \", \".join([e.framework.value for e in state[\"evidence\"] if e.framework]) or \"N/A\"\n",
        "    })\n",
        "    state[\"log\"] = {\"request_id\": state[\"req\"].request_id, \"route\": d.route, \"confidence\": d.confidence, \"reason\": d.reason, \"ts\": datetime.datetime.utcnow().isoformat() + \"Z\"}\n",
        "    return state\n",
        "\n",
        "graph = StateGraph(GraphState)\n",
        "graph.add_node(\"sanitize\", n_sanitize)\n",
        "graph.add_node(\"rules\", n_rules)\n",
        "graph.add_node(\"llm\", n_llm)\n",
        "graph.add_node(\"decide\", n_decide)\n",
        "graph.add_node(\"artifacts\", n_artifacts)\n",
        "graph.set_entry_point(\"sanitize\")\n",
        "graph.add_edge(\"sanitize\",\"rules\")\n",
        "graph.add_conditional_edges(\"rules\", should_llm, {\"llm\":\"llm\",\"decide\":\"decide\"})\n",
        "graph.add_edge(\"llm\",\"decide\")\n",
        "graph.add_edge(\"decide\",\"artifacts\")\n",
        "graph.add_edge(\"artifacts\", END)\n",
        "app = graph.compile()\n",
        "print(\"Graph compiled.\")\n"
      ],
      "outputs": [
        {
          "output_type": "stream",
          "name": "stdout",
          "text": [
            "Graph compiled.\n"
          ]
        }
      ]
    },
    {
      "id": "977dc094",
      "cell_type": "markdown",
      "source": [
        "## Demo"
      ],
      "metadata": {
        "id": "977dc094"
      }
    },
    {
      "id": "525b30a8",
      "cell_type": "code",
      "metadata": {
        "colab": {
          "base_uri": "https://localhost:8080/",
          "height": 512
        },
        "id": "525b30a8",
        "outputId": "504035bf-9d54-4389-edc8-ff38e292a601"
      },
      "execution_count": 67,
      "source": [
        "\n",
        "# %%demo\n",
        "import pprint, json, time\n",
        "\n",
        "samples = [\n",
        "    AuditRequest(\n",
        "        request_id=\"REQ-3001\",\n",
        "        requester_name=\"Alice Smith\",\n",
        "        requester_email=\"alice@example.com\",\n",
        "        business_unit=\"Payments\",\n",
        "        title=\"SOC 2 Type II evidence for trust criteria\",\n",
        "        description=\"Need SOC 2 Type II support: security, availability controls, incident response, vendor management evidence.\",\n",
        "        due_date=\"2025-12-15\"\n",
        "    ),\n",
        "    AuditRequest(\n",
        "        request_id=\"REQ-3002\",\n",
        "        requester_name=\"Bob Johnson\",\n",
        "        requester_email=\"bob@example.com\",\n",
        "        business_unit=\"HR\",\n",
        "        title=\"Brand compliance review\",\n",
        "        description=\"Regional brand compliance for a marketing campaign. No IT systems in scope.\"\n",
        "    ),\n",
        "]\n",
        "\n",
        "results = []\n",
        "for req in samples:\n",
        "    state = {\"req\": req, \"sanitized\": None, \"rule_result\": None, \"llm_result\": None,\n",
        "             \"decision\": None, \"evidence\": [], \"ticket\": None, \"email\": None, \"log\": {}}\n",
        "    out = app.invoke(state)\n",
        "    results.append({\n",
        "        \"request\": req.model_dump(),\n",
        "        \"decision\": out[\"decision\"].model_dump(),\n",
        "        \"evidence\": [e.model_dump() for e in out[\"evidence\"]],\n",
        "        \"ticket\": out[\"ticket\"].model_dump(),\n",
        "        \"email\": out[\"email\"].model_dump(),\n",
        "        \"log\": out[\"log\"],\n",
        "    })\n",
        "    print(\"\\n=== \", req.request_id, \" ===\")\n",
        "    pprint.pp(out[\"decision\"].model_dump())\n",
        "    pprint.pp(out[\"ticket\"].model_dump())\n",
        "    pprint.pp(out[\"email\"].model_dump())\n",
        "    print(\"Evidence:\", [ (e.framework.value if e.framework else \"General\") for e in out[\"evidence\"] ])\n",
        "    time.sleep(1)\n",
        "with open(\"it_audit_router_gemini_run.json\",\"w\") as f:\n",
        "    json.dump(results, f, indent=2)\n",
        "print(\"\\nWrote it_audit_router_gemini_run.json\")\n"
      ],
      "outputs": [
        {
          "output_type": "error",
          "ename": "TooManyRequests",
          "evalue": "429 POST https://generativelanguage.googleapis.com/v1beta/models/gemini-2.5-pro-preview-03-25:generateContent?%24alt=json%3Benum-encoding%3Dint: You exceeded your current quota, please check your plan and billing details. For more information on this error, head to: https://ai.google.dev/gemini-api/docs/rate-limits. To monitor your current usage, head to: https://ai.dev/usage?tab=rate-limit.\n* Quota exceeded for metric: generativelanguage.googleapis.com/generate_content_free_tier_input_token_count, limit: 0\n* Quota exceeded for metric: generativelanguage.googleapis.com/generate_content_free_tier_input_token_count, limit: 0\n* Quota exceeded for metric: generativelanguage.googleapis.com/generate_content_free_tier_requests, limit: 0\n* Quota exceeded for metric: generativelanguage.googleapis.com/generate_content_free_tier_requests, limit: 0\nPlease retry in 11.447233913s.",
          "traceback": [
            "\u001b[0;31m---------------------------------------------------------------------------\u001b[0m",
            "\u001b[0;31mTooManyRequests\u001b[0m                           Traceback (most recent call last)",
            "\u001b[0;32m/tmp/ipython-input-143367763.py\u001b[0m in \u001b[0;36m<cell line: 0>\u001b[0;34m()\u001b[0m\n\u001b[1;32m     26\u001b[0m     state = {\"req\": req, \"sanitized\": None, \"rule_result\": None, \"llm_result\": None,\n\u001b[1;32m     27\u001b[0m              \"decision\": None, \"evidence\": [], \"ticket\": None, \"email\": None, \"log\": {}}\n\u001b[0;32m---> 28\u001b[0;31m     \u001b[0mout\u001b[0m \u001b[0;34m=\u001b[0m \u001b[0mapp\u001b[0m\u001b[0;34m.\u001b[0m\u001b[0minvoke\u001b[0m\u001b[0;34m(\u001b[0m\u001b[0mstate\u001b[0m\u001b[0;34m)\u001b[0m\u001b[0;34m\u001b[0m\u001b[0;34m\u001b[0m\u001b[0m\n\u001b[0m\u001b[1;32m     29\u001b[0m     results.append({\n\u001b[1;32m     30\u001b[0m         \u001b[0;34m\"request\"\u001b[0m\u001b[0;34m:\u001b[0m \u001b[0mreq\u001b[0m\u001b[0;34m.\u001b[0m\u001b[0mmodel_dump\u001b[0m\u001b[0;34m(\u001b[0m\u001b[0;34m)\u001b[0m\u001b[0;34m,\u001b[0m\u001b[0;34m\u001b[0m\u001b[0;34m\u001b[0m\u001b[0m\n",
            "\u001b[0;32m/usr/local/lib/python3.12/dist-packages/langgraph/pregel/main.py\u001b[0m in \u001b[0;36minvoke\u001b[0;34m(self, input, config, context, stream_mode, print_mode, output_keys, interrupt_before, interrupt_after, durability, **kwargs)\u001b[0m\n\u001b[1;32m   3092\u001b[0m         \u001b[0minterrupts\u001b[0m\u001b[0;34m:\u001b[0m \u001b[0mlist\u001b[0m\u001b[0;34m[\u001b[0m\u001b[0mInterrupt\u001b[0m\u001b[0;34m]\u001b[0m \u001b[0;34m=\u001b[0m \u001b[0;34m[\u001b[0m\u001b[0;34m]\u001b[0m\u001b[0;34m\u001b[0m\u001b[0;34m\u001b[0m\u001b[0m\n\u001b[1;32m   3093\u001b[0m \u001b[0;34m\u001b[0m\u001b[0m\n\u001b[0;32m-> 3094\u001b[0;31m         for chunk in self.stream(\n\u001b[0m\u001b[1;32m   3095\u001b[0m             \u001b[0minput\u001b[0m\u001b[0;34m,\u001b[0m\u001b[0;34m\u001b[0m\u001b[0;34m\u001b[0m\u001b[0m\n\u001b[1;32m   3096\u001b[0m             \u001b[0mconfig\u001b[0m\u001b[0;34m,\u001b[0m\u001b[0;34m\u001b[0m\u001b[0;34m\u001b[0m\u001b[0m\n",
            "\u001b[0;32m/usr/local/lib/python3.12/dist-packages/langgraph/pregel/main.py\u001b[0m in \u001b[0;36mstream\u001b[0;34m(self, input, config, context, stream_mode, print_mode, output_keys, interrupt_before, interrupt_after, durability, subgraphs, debug, **kwargs)\u001b[0m\n\u001b[1;32m   2677\u001b[0m                     \u001b[0;32mfor\u001b[0m \u001b[0mtask\u001b[0m \u001b[0;32min\u001b[0m \u001b[0mloop\u001b[0m\u001b[0;34m.\u001b[0m\u001b[0mmatch_cached_writes\u001b[0m\u001b[0;34m(\u001b[0m\u001b[0;34m)\u001b[0m\u001b[0;34m:\u001b[0m\u001b[0;34m\u001b[0m\u001b[0;34m\u001b[0m\u001b[0m\n\u001b[1;32m   2678\u001b[0m                         \u001b[0mloop\u001b[0m\u001b[0;34m.\u001b[0m\u001b[0moutput_writes\u001b[0m\u001b[0;34m(\u001b[0m\u001b[0mtask\u001b[0m\u001b[0;34m.\u001b[0m\u001b[0mid\u001b[0m\u001b[0;34m,\u001b[0m \u001b[0mtask\u001b[0m\u001b[0;34m.\u001b[0m\u001b[0mwrites\u001b[0m\u001b[0;34m,\u001b[0m \u001b[0mcached\u001b[0m\u001b[0;34m=\u001b[0m\u001b[0;32mTrue\u001b[0m\u001b[0;34m)\u001b[0m\u001b[0;34m\u001b[0m\u001b[0;34m\u001b[0m\u001b[0m\n\u001b[0;32m-> 2679\u001b[0;31m                     for _ in runner.tick(\n\u001b[0m\u001b[1;32m   2680\u001b[0m                         \u001b[0;34m[\u001b[0m\u001b[0mt\u001b[0m \u001b[0;32mfor\u001b[0m \u001b[0mt\u001b[0m \u001b[0;32min\u001b[0m \u001b[0mloop\u001b[0m\u001b[0;34m.\u001b[0m\u001b[0mtasks\u001b[0m\u001b[0;34m.\u001b[0m\u001b[0mvalues\u001b[0m\u001b[0;34m(\u001b[0m\u001b[0;34m)\u001b[0m \u001b[0;32mif\u001b[0m \u001b[0;32mnot\u001b[0m \u001b[0mt\u001b[0m\u001b[0;34m.\u001b[0m\u001b[0mwrites\u001b[0m\u001b[0;34m]\u001b[0m\u001b[0;34m,\u001b[0m\u001b[0;34m\u001b[0m\u001b[0;34m\u001b[0m\u001b[0m\n\u001b[1;32m   2681\u001b[0m                         \u001b[0mtimeout\u001b[0m\u001b[0;34m=\u001b[0m\u001b[0mself\u001b[0m\u001b[0;34m.\u001b[0m\u001b[0mstep_timeout\u001b[0m\u001b[0;34m,\u001b[0m\u001b[0;34m\u001b[0m\u001b[0;34m\u001b[0m\u001b[0m\n",
            "\u001b[0;32m/usr/local/lib/python3.12/dist-packages/langgraph/pregel/_runner.py\u001b[0m in \u001b[0;36mtick\u001b[0;34m(self, tasks, reraise, timeout, retry_policy, get_waiter, schedule_task)\u001b[0m\n\u001b[1;32m    165\u001b[0m             \u001b[0mt\u001b[0m \u001b[0;34m=\u001b[0m \u001b[0mtasks\u001b[0m\u001b[0;34m[\u001b[0m\u001b[0;36m0\u001b[0m\u001b[0;34m]\u001b[0m\u001b[0;34m\u001b[0m\u001b[0;34m\u001b[0m\u001b[0m\n\u001b[1;32m    166\u001b[0m             \u001b[0;32mtry\u001b[0m\u001b[0;34m:\u001b[0m\u001b[0;34m\u001b[0m\u001b[0;34m\u001b[0m\u001b[0m\n\u001b[0;32m--> 167\u001b[0;31m                 run_with_retry(\n\u001b[0m\u001b[1;32m    168\u001b[0m                     \u001b[0mt\u001b[0m\u001b[0;34m,\u001b[0m\u001b[0;34m\u001b[0m\u001b[0;34m\u001b[0m\u001b[0m\n\u001b[1;32m    169\u001b[0m                     \u001b[0mretry_policy\u001b[0m\u001b[0;34m,\u001b[0m\u001b[0;34m\u001b[0m\u001b[0;34m\u001b[0m\u001b[0m\n",
            "\u001b[0;32m/usr/local/lib/python3.12/dist-packages/langgraph/pregel/_retry.py\u001b[0m in \u001b[0;36mrun_with_retry\u001b[0;34m(task, retry_policy, configurable)\u001b[0m\n\u001b[1;32m     40\u001b[0m             \u001b[0mtask\u001b[0m\u001b[0;34m.\u001b[0m\u001b[0mwrites\u001b[0m\u001b[0;34m.\u001b[0m\u001b[0mclear\u001b[0m\u001b[0;34m(\u001b[0m\u001b[0;34m)\u001b[0m\u001b[0;34m\u001b[0m\u001b[0;34m\u001b[0m\u001b[0m\n\u001b[1;32m     41\u001b[0m             \u001b[0;31m# run the task\u001b[0m\u001b[0;34m\u001b[0m\u001b[0;34m\u001b[0m\u001b[0m\n\u001b[0;32m---> 42\u001b[0;31m             \u001b[0;32mreturn\u001b[0m \u001b[0mtask\u001b[0m\u001b[0;34m.\u001b[0m\u001b[0mproc\u001b[0m\u001b[0;34m.\u001b[0m\u001b[0minvoke\u001b[0m\u001b[0;34m(\u001b[0m\u001b[0mtask\u001b[0m\u001b[0;34m.\u001b[0m\u001b[0minput\u001b[0m\u001b[0;34m,\u001b[0m \u001b[0mconfig\u001b[0m\u001b[0;34m)\u001b[0m\u001b[0;34m\u001b[0m\u001b[0;34m\u001b[0m\u001b[0m\n\u001b[0m\u001b[1;32m     43\u001b[0m         \u001b[0;32mexcept\u001b[0m \u001b[0mParentCommand\u001b[0m \u001b[0;32mas\u001b[0m \u001b[0mexc\u001b[0m\u001b[0;34m:\u001b[0m\u001b[0;34m\u001b[0m\u001b[0;34m\u001b[0m\u001b[0m\n\u001b[1;32m     44\u001b[0m             \u001b[0mns\u001b[0m\u001b[0;34m:\u001b[0m \u001b[0mstr\u001b[0m \u001b[0;34m=\u001b[0m \u001b[0mconfig\u001b[0m\u001b[0;34m[\u001b[0m\u001b[0mCONF\u001b[0m\u001b[0;34m]\u001b[0m\u001b[0;34m[\u001b[0m\u001b[0mCONFIG_KEY_CHECKPOINT_NS\u001b[0m\u001b[0;34m]\u001b[0m\u001b[0;34m\u001b[0m\u001b[0;34m\u001b[0m\u001b[0m\n",
            "\u001b[0;32m/usr/local/lib/python3.12/dist-packages/langgraph/_internal/_runnable.py\u001b[0m in \u001b[0;36minvoke\u001b[0;34m(self, input, config, **kwargs)\u001b[0m\n\u001b[1;32m    654\u001b[0m                     \u001b[0;31m# run in context\u001b[0m\u001b[0;34m\u001b[0m\u001b[0;34m\u001b[0m\u001b[0m\n\u001b[1;32m    655\u001b[0m                     \u001b[0;32mwith\u001b[0m \u001b[0mset_config_context\u001b[0m\u001b[0;34m(\u001b[0m\u001b[0mconfig\u001b[0m\u001b[0;34m,\u001b[0m \u001b[0mrun\u001b[0m\u001b[0;34m)\u001b[0m \u001b[0;32mas\u001b[0m \u001b[0mcontext\u001b[0m\u001b[0;34m:\u001b[0m\u001b[0;34m\u001b[0m\u001b[0;34m\u001b[0m\u001b[0m\n\u001b[0;32m--> 656\u001b[0;31m                         \u001b[0minput\u001b[0m \u001b[0;34m=\u001b[0m \u001b[0mcontext\u001b[0m\u001b[0;34m.\u001b[0m\u001b[0mrun\u001b[0m\u001b[0;34m(\u001b[0m\u001b[0mstep\u001b[0m\u001b[0;34m.\u001b[0m\u001b[0minvoke\u001b[0m\u001b[0;34m,\u001b[0m \u001b[0minput\u001b[0m\u001b[0;34m,\u001b[0m \u001b[0mconfig\u001b[0m\u001b[0;34m,\u001b[0m \u001b[0;34m**\u001b[0m\u001b[0mkwargs\u001b[0m\u001b[0;34m)\u001b[0m\u001b[0;34m\u001b[0m\u001b[0;34m\u001b[0m\u001b[0m\n\u001b[0m\u001b[1;32m    657\u001b[0m                 \u001b[0;32melse\u001b[0m\u001b[0;34m:\u001b[0m\u001b[0;34m\u001b[0m\u001b[0;34m\u001b[0m\u001b[0m\n\u001b[1;32m    658\u001b[0m                     \u001b[0minput\u001b[0m \u001b[0;34m=\u001b[0m \u001b[0mstep\u001b[0m\u001b[0;34m.\u001b[0m\u001b[0minvoke\u001b[0m\u001b[0;34m(\u001b[0m\u001b[0minput\u001b[0m\u001b[0;34m,\u001b[0m \u001b[0mconfig\u001b[0m\u001b[0;34m)\u001b[0m\u001b[0;34m\u001b[0m\u001b[0;34m\u001b[0m\u001b[0m\n",
            "\u001b[0;32m/usr/local/lib/python3.12/dist-packages/langgraph/_internal/_runnable.py\u001b[0m in \u001b[0;36minvoke\u001b[0;34m(self, input, config, **kwargs)\u001b[0m\n\u001b[1;32m    398\u001b[0m                 \u001b[0mrun_manager\u001b[0m\u001b[0;34m.\u001b[0m\u001b[0mon_chain_end\u001b[0m\u001b[0;34m(\u001b[0m\u001b[0mret\u001b[0m\u001b[0;34m)\u001b[0m\u001b[0;34m\u001b[0m\u001b[0;34m\u001b[0m\u001b[0m\n\u001b[1;32m    399\u001b[0m         \u001b[0;32melse\u001b[0m\u001b[0;34m:\u001b[0m\u001b[0;34m\u001b[0m\u001b[0;34m\u001b[0m\u001b[0m\n\u001b[0;32m--> 400\u001b[0;31m             \u001b[0mret\u001b[0m \u001b[0;34m=\u001b[0m \u001b[0mself\u001b[0m\u001b[0;34m.\u001b[0m\u001b[0mfunc\u001b[0m\u001b[0;34m(\u001b[0m\u001b[0;34m*\u001b[0m\u001b[0margs\u001b[0m\u001b[0;34m,\u001b[0m \u001b[0;34m**\u001b[0m\u001b[0mkwargs\u001b[0m\u001b[0;34m)\u001b[0m\u001b[0;34m\u001b[0m\u001b[0;34m\u001b[0m\u001b[0m\n\u001b[0m\u001b[1;32m    401\u001b[0m         \u001b[0;32mif\u001b[0m \u001b[0mself\u001b[0m\u001b[0;34m.\u001b[0m\u001b[0mrecurse\u001b[0m \u001b[0;32mand\u001b[0m \u001b[0misinstance\u001b[0m\u001b[0;34m(\u001b[0m\u001b[0mret\u001b[0m\u001b[0;34m,\u001b[0m \u001b[0mRunnable\u001b[0m\u001b[0;34m)\u001b[0m\u001b[0;34m:\u001b[0m\u001b[0;34m\u001b[0m\u001b[0;34m\u001b[0m\u001b[0m\n\u001b[1;32m    402\u001b[0m             \u001b[0;32mreturn\u001b[0m \u001b[0mret\u001b[0m\u001b[0;34m.\u001b[0m\u001b[0minvoke\u001b[0m\u001b[0;34m(\u001b[0m\u001b[0minput\u001b[0m\u001b[0;34m,\u001b[0m \u001b[0mconfig\u001b[0m\u001b[0;34m)\u001b[0m\u001b[0;34m\u001b[0m\u001b[0;34m\u001b[0m\u001b[0m\n",
            "\u001b[0;32m/tmp/ipython-input-879099216.py\u001b[0m in \u001b[0;36mn_llm\u001b[0;34m(state)\u001b[0m\n\u001b[1;32m     29\u001b[0m \u001b[0;32mdef\u001b[0m \u001b[0mn_llm\u001b[0m\u001b[0;34m(\u001b[0m\u001b[0mstate\u001b[0m\u001b[0;34m:\u001b[0m \u001b[0mGraphState\u001b[0m\u001b[0;34m)\u001b[0m \u001b[0;34m->\u001b[0m \u001b[0mGraphState\u001b[0m\u001b[0;34m:\u001b[0m\u001b[0;34m\u001b[0m\u001b[0;34m\u001b[0m\u001b[0m\n\u001b[1;32m     30\u001b[0m     \u001b[0ms\u001b[0m \u001b[0;34m=\u001b[0m \u001b[0mstate\u001b[0m\u001b[0;34m[\u001b[0m\u001b[0;34m\"sanitized\"\u001b[0m\u001b[0;34m]\u001b[0m\u001b[0;34m\u001b[0m\u001b[0;34m\u001b[0m\u001b[0m\n\u001b[0;32m---> 31\u001b[0;31m     \u001b[0mstate\u001b[0m\u001b[0;34m[\u001b[0m\u001b[0;34m\"llm_result\"\u001b[0m\u001b[0;34m]\u001b[0m \u001b[0;34m=\u001b[0m \u001b[0mllm_verify\u001b[0m\u001b[0;34m(\u001b[0m\u001b[0ms\u001b[0m\u001b[0;34m.\u001b[0m\u001b[0mtitle\u001b[0m\u001b[0;34m,\u001b[0m \u001b[0ms\u001b[0m\u001b[0;34m.\u001b[0m\u001b[0mdescription\u001b[0m\u001b[0;34m)\u001b[0m\u001b[0;34m\u001b[0m\u001b[0;34m\u001b[0m\u001b[0m\n\u001b[0m\u001b[1;32m     32\u001b[0m     \u001b[0;32mreturn\u001b[0m \u001b[0mstate\u001b[0m\u001b[0;34m\u001b[0m\u001b[0;34m\u001b[0m\u001b[0m\n\u001b[1;32m     33\u001b[0m \u001b[0;34m\u001b[0m\u001b[0m\n",
            "\u001b[0;32m/tmp/ipython-input-1243528486.py\u001b[0m in \u001b[0;36mllm_verify\u001b[0;34m(title, description)\u001b[0m\n\u001b[1;32m     25\u001b[0m     )\n\u001b[1;32m     26\u001b[0m     \u001b[0mmodel_obj\u001b[0m \u001b[0;34m=\u001b[0m \u001b[0mgenai\u001b[0m\u001b[0;34m.\u001b[0m\u001b[0mGenerativeModel\u001b[0m\u001b[0;34m(\u001b[0m\u001b[0mMODEL\u001b[0m\u001b[0;34m)\u001b[0m\u001b[0;34m\u001b[0m\u001b[0;34m\u001b[0m\u001b[0m\n\u001b[0;32m---> 27\u001b[0;31m     \u001b[0mresp\u001b[0m \u001b[0;34m=\u001b[0m \u001b[0mmodel_obj\u001b[0m\u001b[0;34m.\u001b[0m\u001b[0mgenerate_content\u001b[0m\u001b[0;34m(\u001b[0m\u001b[0mprompt\u001b[0m\u001b[0;34m,\u001b[0m \u001b[0mgeneration_config\u001b[0m\u001b[0;34m=\u001b[0m\u001b[0;34m{\u001b[0m\u001b[0;34m\"temperature\"\u001b[0m\u001b[0;34m:\u001b[0m \u001b[0;36m0\u001b[0m\u001b[0;34m}\u001b[0m\u001b[0;34m)\u001b[0m\u001b[0;34m\u001b[0m\u001b[0;34m\u001b[0m\u001b[0m\n\u001b[0m\u001b[1;32m     28\u001b[0m     \u001b[0mtext\u001b[0m \u001b[0;34m=\u001b[0m \u001b[0;34m(\u001b[0m\u001b[0mresp\u001b[0m\u001b[0;34m.\u001b[0m\u001b[0mtext\u001b[0m \u001b[0;32mor\u001b[0m \u001b[0;34m\"\"\u001b[0m\u001b[0;34m)\u001b[0m\u001b[0;34m.\u001b[0m\u001b[0mstrip\u001b[0m\u001b[0;34m(\u001b[0m\u001b[0;34m)\u001b[0m\u001b[0;34m\u001b[0m\u001b[0;34m\u001b[0m\u001b[0m\n\u001b[1;32m     29\u001b[0m     \u001b[0mraw\u001b[0m \u001b[0;34m=\u001b[0m \u001b[0m_extract_json\u001b[0m\u001b[0;34m(\u001b[0m\u001b[0mtext\u001b[0m\u001b[0;34m)\u001b[0m\u001b[0;34m\u001b[0m\u001b[0;34m\u001b[0m\u001b[0m\n",
            "\u001b[0;32m/usr/local/lib/python3.12/dist-packages/google/generativeai/generative_models.py\u001b[0m in \u001b[0;36mgenerate_content\u001b[0;34m(self, contents, generation_config, safety_settings, stream, tools, tool_config, request_options)\u001b[0m\n\u001b[1;32m    329\u001b[0m                 \u001b[0;32mreturn\u001b[0m \u001b[0mgeneration_types\u001b[0m\u001b[0;34m.\u001b[0m\u001b[0mGenerateContentResponse\u001b[0m\u001b[0;34m.\u001b[0m\u001b[0mfrom_iterator\u001b[0m\u001b[0;34m(\u001b[0m\u001b[0miterator\u001b[0m\u001b[0;34m)\u001b[0m\u001b[0;34m\u001b[0m\u001b[0;34m\u001b[0m\u001b[0m\n\u001b[1;32m    330\u001b[0m             \u001b[0;32melse\u001b[0m\u001b[0;34m:\u001b[0m\u001b[0;34m\u001b[0m\u001b[0;34m\u001b[0m\u001b[0m\n\u001b[0;32m--> 331\u001b[0;31m                 response = self._client.generate_content(\n\u001b[0m\u001b[1;32m    332\u001b[0m                     \u001b[0mrequest\u001b[0m\u001b[0;34m,\u001b[0m\u001b[0;34m\u001b[0m\u001b[0;34m\u001b[0m\u001b[0m\n\u001b[1;32m    333\u001b[0m                     \u001b[0;34m**\u001b[0m\u001b[0mrequest_options\u001b[0m\u001b[0;34m,\u001b[0m\u001b[0;34m\u001b[0m\u001b[0;34m\u001b[0m\u001b[0m\n",
            "\u001b[0;32m/usr/local/lib/python3.12/dist-packages/google/ai/generativelanguage_v1beta/services/generative_service/client.py\u001b[0m in \u001b[0;36mgenerate_content\u001b[0;34m(self, request, model, contents, retry, timeout, metadata)\u001b[0m\n\u001b[1;32m    833\u001b[0m \u001b[0;34m\u001b[0m\u001b[0m\n\u001b[1;32m    834\u001b[0m         \u001b[0;31m# Send the request.\u001b[0m\u001b[0;34m\u001b[0m\u001b[0;34m\u001b[0m\u001b[0m\n\u001b[0;32m--> 835\u001b[0;31m         response = rpc(\n\u001b[0m\u001b[1;32m    836\u001b[0m             \u001b[0mrequest\u001b[0m\u001b[0;34m,\u001b[0m\u001b[0;34m\u001b[0m\u001b[0;34m\u001b[0m\u001b[0m\n\u001b[1;32m    837\u001b[0m             \u001b[0mretry\u001b[0m\u001b[0;34m=\u001b[0m\u001b[0mretry\u001b[0m\u001b[0;34m,\u001b[0m\u001b[0;34m\u001b[0m\u001b[0;34m\u001b[0m\u001b[0m\n",
            "\u001b[0;32m/usr/local/lib/python3.12/dist-packages/google/api_core/gapic_v1/method.py\u001b[0m in \u001b[0;36m__call__\u001b[0;34m(self, timeout, retry, compression, *args, **kwargs)\u001b[0m\n\u001b[1;32m    129\u001b[0m             \u001b[0mkwargs\u001b[0m\u001b[0;34m[\u001b[0m\u001b[0;34m\"compression\"\u001b[0m\u001b[0;34m]\u001b[0m \u001b[0;34m=\u001b[0m \u001b[0mcompression\u001b[0m\u001b[0;34m\u001b[0m\u001b[0;34m\u001b[0m\u001b[0m\n\u001b[1;32m    130\u001b[0m \u001b[0;34m\u001b[0m\u001b[0m\n\u001b[0;32m--> 131\u001b[0;31m         \u001b[0;32mreturn\u001b[0m \u001b[0mwrapped_func\u001b[0m\u001b[0;34m(\u001b[0m\u001b[0;34m*\u001b[0m\u001b[0margs\u001b[0m\u001b[0;34m,\u001b[0m \u001b[0;34m**\u001b[0m\u001b[0mkwargs\u001b[0m\u001b[0;34m)\u001b[0m\u001b[0;34m\u001b[0m\u001b[0;34m\u001b[0m\u001b[0m\n\u001b[0m\u001b[1;32m    132\u001b[0m \u001b[0;34m\u001b[0m\u001b[0m\n\u001b[1;32m    133\u001b[0m \u001b[0;34m\u001b[0m\u001b[0m\n",
            "\u001b[0;32m/usr/local/lib/python3.12/dist-packages/google/api_core/retry/retry_unary.py\u001b[0m in \u001b[0;36mretry_wrapped_func\u001b[0;34m(*args, **kwargs)\u001b[0m\n\u001b[1;32m    292\u001b[0m                 \u001b[0mself\u001b[0m\u001b[0;34m.\u001b[0m\u001b[0m_initial\u001b[0m\u001b[0;34m,\u001b[0m \u001b[0mself\u001b[0m\u001b[0;34m.\u001b[0m\u001b[0m_maximum\u001b[0m\u001b[0;34m,\u001b[0m \u001b[0mmultiplier\u001b[0m\u001b[0;34m=\u001b[0m\u001b[0mself\u001b[0m\u001b[0;34m.\u001b[0m\u001b[0m_multiplier\u001b[0m\u001b[0;34m\u001b[0m\u001b[0;34m\u001b[0m\u001b[0m\n\u001b[1;32m    293\u001b[0m             )\n\u001b[0;32m--> 294\u001b[0;31m             return retry_target(\n\u001b[0m\u001b[1;32m    295\u001b[0m                 \u001b[0mtarget\u001b[0m\u001b[0;34m,\u001b[0m\u001b[0;34m\u001b[0m\u001b[0;34m\u001b[0m\u001b[0m\n\u001b[1;32m    296\u001b[0m                 \u001b[0mself\u001b[0m\u001b[0;34m.\u001b[0m\u001b[0m_predicate\u001b[0m\u001b[0;34m,\u001b[0m\u001b[0;34m\u001b[0m\u001b[0;34m\u001b[0m\u001b[0m\n",
            "\u001b[0;32m/usr/local/lib/python3.12/dist-packages/google/api_core/retry/retry_unary.py\u001b[0m in \u001b[0;36mretry_target\u001b[0;34m(target, predicate, sleep_generator, timeout, on_error, exception_factory, **kwargs)\u001b[0m\n\u001b[1;32m    154\u001b[0m         \u001b[0;32mexcept\u001b[0m \u001b[0mException\u001b[0m \u001b[0;32mas\u001b[0m \u001b[0mexc\u001b[0m\u001b[0;34m:\u001b[0m\u001b[0;34m\u001b[0m\u001b[0;34m\u001b[0m\u001b[0m\n\u001b[1;32m    155\u001b[0m             \u001b[0;31m# defer to shared logic for handling errors\u001b[0m\u001b[0;34m\u001b[0m\u001b[0;34m\u001b[0m\u001b[0m\n\u001b[0;32m--> 156\u001b[0;31m             next_sleep = _retry_error_helper(\n\u001b[0m\u001b[1;32m    157\u001b[0m                 \u001b[0mexc\u001b[0m\u001b[0;34m,\u001b[0m\u001b[0;34m\u001b[0m\u001b[0;34m\u001b[0m\u001b[0m\n\u001b[1;32m    158\u001b[0m                 \u001b[0mdeadline\u001b[0m\u001b[0;34m,\u001b[0m\u001b[0;34m\u001b[0m\u001b[0;34m\u001b[0m\u001b[0m\n",
            "\u001b[0;32m/usr/local/lib/python3.12/dist-packages/google/api_core/retry/retry_base.py\u001b[0m in \u001b[0;36m_retry_error_helper\u001b[0;34m(exc, deadline, sleep_iterator, error_list, predicate_fn, on_error_fn, exc_factory_fn, original_timeout)\u001b[0m\n\u001b[1;32m    212\u001b[0m             \u001b[0moriginal_timeout\u001b[0m\u001b[0;34m,\u001b[0m\u001b[0;34m\u001b[0m\u001b[0;34m\u001b[0m\u001b[0m\n\u001b[1;32m    213\u001b[0m         )\n\u001b[0;32m--> 214\u001b[0;31m         \u001b[0;32mraise\u001b[0m \u001b[0mfinal_exc\u001b[0m \u001b[0;32mfrom\u001b[0m \u001b[0msource_exc\u001b[0m\u001b[0;34m\u001b[0m\u001b[0;34m\u001b[0m\u001b[0m\n\u001b[0m\u001b[1;32m    215\u001b[0m     \u001b[0;32mif\u001b[0m \u001b[0mon_error_fn\u001b[0m \u001b[0;32mis\u001b[0m \u001b[0;32mnot\u001b[0m \u001b[0;32mNone\u001b[0m\u001b[0;34m:\u001b[0m\u001b[0;34m\u001b[0m\u001b[0;34m\u001b[0m\u001b[0m\n\u001b[1;32m    216\u001b[0m         \u001b[0mon_error_fn\u001b[0m\u001b[0;34m(\u001b[0m\u001b[0mexc\u001b[0m\u001b[0;34m)\u001b[0m\u001b[0;34m\u001b[0m\u001b[0;34m\u001b[0m\u001b[0m\n",
            "\u001b[0;32m/usr/local/lib/python3.12/dist-packages/google/api_core/retry/retry_unary.py\u001b[0m in \u001b[0;36mretry_target\u001b[0;34m(target, predicate, sleep_generator, timeout, on_error, exception_factory, **kwargs)\u001b[0m\n\u001b[1;32m    145\u001b[0m     \u001b[0;32mwhile\u001b[0m \u001b[0;32mTrue\u001b[0m\u001b[0;34m:\u001b[0m\u001b[0;34m\u001b[0m\u001b[0;34m\u001b[0m\u001b[0m\n\u001b[1;32m    146\u001b[0m         \u001b[0;32mtry\u001b[0m\u001b[0;34m:\u001b[0m\u001b[0;34m\u001b[0m\u001b[0;34m\u001b[0m\u001b[0m\n\u001b[0;32m--> 147\u001b[0;31m             \u001b[0mresult\u001b[0m \u001b[0;34m=\u001b[0m \u001b[0mtarget\u001b[0m\u001b[0;34m(\u001b[0m\u001b[0;34m)\u001b[0m\u001b[0;34m\u001b[0m\u001b[0;34m\u001b[0m\u001b[0m\n\u001b[0m\u001b[1;32m    148\u001b[0m             \u001b[0;32mif\u001b[0m \u001b[0minspect\u001b[0m\u001b[0;34m.\u001b[0m\u001b[0misawaitable\u001b[0m\u001b[0;34m(\u001b[0m\u001b[0mresult\u001b[0m\u001b[0;34m)\u001b[0m\u001b[0;34m:\u001b[0m\u001b[0;34m\u001b[0m\u001b[0;34m\u001b[0m\u001b[0m\n\u001b[1;32m    149\u001b[0m                 \u001b[0mwarnings\u001b[0m\u001b[0;34m.\u001b[0m\u001b[0mwarn\u001b[0m\u001b[0;34m(\u001b[0m\u001b[0m_ASYNC_RETRY_WARNING\u001b[0m\u001b[0;34m)\u001b[0m\u001b[0;34m\u001b[0m\u001b[0;34m\u001b[0m\u001b[0m\n",
            "\u001b[0;32m/usr/local/lib/python3.12/dist-packages/google/api_core/timeout.py\u001b[0m in \u001b[0;36mfunc_with_timeout\u001b[0;34m(*args, **kwargs)\u001b[0m\n\u001b[1;32m    128\u001b[0m                 \u001b[0mkwargs\u001b[0m\u001b[0;34m[\u001b[0m\u001b[0;34m\"timeout\"\u001b[0m\u001b[0;34m]\u001b[0m \u001b[0;34m=\u001b[0m \u001b[0mremaining_timeout\u001b[0m\u001b[0;34m\u001b[0m\u001b[0;34m\u001b[0m\u001b[0m\n\u001b[1;32m    129\u001b[0m \u001b[0;34m\u001b[0m\u001b[0m\n\u001b[0;32m--> 130\u001b[0;31m             \u001b[0;32mreturn\u001b[0m \u001b[0mfunc\u001b[0m\u001b[0;34m(\u001b[0m\u001b[0;34m*\u001b[0m\u001b[0margs\u001b[0m\u001b[0;34m,\u001b[0m \u001b[0;34m**\u001b[0m\u001b[0mkwargs\u001b[0m\u001b[0;34m)\u001b[0m\u001b[0;34m\u001b[0m\u001b[0;34m\u001b[0m\u001b[0m\n\u001b[0m\u001b[1;32m    131\u001b[0m \u001b[0;34m\u001b[0m\u001b[0m\n\u001b[1;32m    132\u001b[0m         \u001b[0;32mreturn\u001b[0m \u001b[0mfunc_with_timeout\u001b[0m\u001b[0;34m\u001b[0m\u001b[0;34m\u001b[0m\u001b[0m\n",
            "\u001b[0;32m/usr/local/lib/python3.12/dist-packages/google/api_core/grpc_helpers.py\u001b[0m in \u001b[0;36merror_remapped_callable\u001b[0;34m(*args, **kwargs)\u001b[0m\n\u001b[1;32m     73\u001b[0m     \u001b[0;32mdef\u001b[0m \u001b[0merror_remapped_callable\u001b[0m\u001b[0;34m(\u001b[0m\u001b[0;34m*\u001b[0m\u001b[0margs\u001b[0m\u001b[0;34m,\u001b[0m \u001b[0;34m**\u001b[0m\u001b[0mkwargs\u001b[0m\u001b[0;34m)\u001b[0m\u001b[0;34m:\u001b[0m\u001b[0;34m\u001b[0m\u001b[0;34m\u001b[0m\u001b[0m\n\u001b[1;32m     74\u001b[0m         \u001b[0;32mtry\u001b[0m\u001b[0;34m:\u001b[0m\u001b[0;34m\u001b[0m\u001b[0;34m\u001b[0m\u001b[0m\n\u001b[0;32m---> 75\u001b[0;31m             \u001b[0;32mreturn\u001b[0m \u001b[0mcallable_\u001b[0m\u001b[0;34m(\u001b[0m\u001b[0;34m*\u001b[0m\u001b[0margs\u001b[0m\u001b[0;34m,\u001b[0m \u001b[0;34m**\u001b[0m\u001b[0mkwargs\u001b[0m\u001b[0;34m)\u001b[0m\u001b[0;34m\u001b[0m\u001b[0;34m\u001b[0m\u001b[0m\n\u001b[0m\u001b[1;32m     76\u001b[0m         \u001b[0;32mexcept\u001b[0m \u001b[0mgrpc\u001b[0m\u001b[0;34m.\u001b[0m\u001b[0mRpcError\u001b[0m \u001b[0;32mas\u001b[0m \u001b[0mexc\u001b[0m\u001b[0;34m:\u001b[0m\u001b[0;34m\u001b[0m\u001b[0;34m\u001b[0m\u001b[0m\n\u001b[1;32m     77\u001b[0m             \u001b[0;32mraise\u001b[0m \u001b[0mexceptions\u001b[0m\u001b[0;34m.\u001b[0m\u001b[0mfrom_grpc_error\u001b[0m\u001b[0;34m(\u001b[0m\u001b[0mexc\u001b[0m\u001b[0;34m)\u001b[0m \u001b[0;32mfrom\u001b[0m \u001b[0mexc\u001b[0m\u001b[0;34m\u001b[0m\u001b[0;34m\u001b[0m\u001b[0m\n",
            "\u001b[0;32m/usr/local/lib/python3.12/dist-packages/google/ai/generativelanguage_v1beta/services/generative_service/transports/rest.py\u001b[0m in \u001b[0;36m__call__\u001b[0;34m(self, request, retry, timeout, metadata)\u001b[0m\n\u001b[1;32m   1159\u001b[0m             \u001b[0;31m# subclass.\u001b[0m\u001b[0;34m\u001b[0m\u001b[0;34m\u001b[0m\u001b[0m\n\u001b[1;32m   1160\u001b[0m             \u001b[0;32mif\u001b[0m \u001b[0mresponse\u001b[0m\u001b[0;34m.\u001b[0m\u001b[0mstatus_code\u001b[0m \u001b[0;34m>=\u001b[0m \u001b[0;36m400\u001b[0m\u001b[0;34m:\u001b[0m\u001b[0;34m\u001b[0m\u001b[0;34m\u001b[0m\u001b[0m\n\u001b[0;32m-> 1161\u001b[0;31m                 \u001b[0;32mraise\u001b[0m \u001b[0mcore_exceptions\u001b[0m\u001b[0;34m.\u001b[0m\u001b[0mfrom_http_response\u001b[0m\u001b[0;34m(\u001b[0m\u001b[0mresponse\u001b[0m\u001b[0;34m)\u001b[0m\u001b[0;34m\u001b[0m\u001b[0;34m\u001b[0m\u001b[0m\n\u001b[0m\u001b[1;32m   1162\u001b[0m \u001b[0;34m\u001b[0m\u001b[0m\n\u001b[1;32m   1163\u001b[0m             \u001b[0;31m# Return the response\u001b[0m\u001b[0;34m\u001b[0m\u001b[0;34m\u001b[0m\u001b[0m\n",
            "\u001b[0;31mTooManyRequests\u001b[0m: 429 POST https://generativelanguage.googleapis.com/v1beta/models/gemini-2.5-pro-preview-03-25:generateContent?%24alt=json%3Benum-encoding%3Dint: You exceeded your current quota, please check your plan and billing details. For more information on this error, head to: https://ai.google.dev/gemini-api/docs/rate-limits. To monitor your current usage, head to: https://ai.dev/usage?tab=rate-limit.\n* Quota exceeded for metric: generativelanguage.googleapis.com/generate_content_free_tier_input_token_count, limit: 0\n* Quota exceeded for metric: generativelanguage.googleapis.com/generate_content_free_tier_input_token_count, limit: 0\n* Quota exceeded for metric: generativelanguage.googleapis.com/generate_content_free_tier_requests, limit: 0\n* Quota exceeded for metric: generativelanguage.googleapis.com/generate_content_free_tier_requests, limit: 0\nPlease retry in 11.447233913s."
          ]
        },
        {
          "output_type": "stream",
          "name": "stderr",
          "text": [
            "WARNING:tornado.access:429 POST /v1beta/models/gemini-2.5-pro-preview-03-25:generateContent?%24alt=json%3Benum-encoding%3Dint (::1) 307.55ms\n"
          ]
        }
      ]
    }
  ]
}